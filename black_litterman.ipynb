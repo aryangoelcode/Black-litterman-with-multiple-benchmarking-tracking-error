{
 "cells": [
  {
   "cell_type": "markdown",
   "id": "99d21a94",
   "metadata": {},
   "source": [
    "\n",
    "## Portfolio Optimization with Black-Litterman\n",
    "## Multi-Benchmark Tracking Error Visualization\n",
    "\n"
   ]
  },
  {
   "cell_type": "markdown",
   "id": "d6794347",
   "metadata": {},
   "source": [
    "## Import Required Libraries"
   ]
  },
  {
   "cell_type": "code",
   "execution_count": 13,
   "id": "0c17f277",
   "metadata": {},
   "outputs": [],
   "source": [
    "import yfinance as yf\n",
    "import numpy as np\n",
    "import pandas as pd\n",
    "import matplotlib.pyplot as plt\n",
    "from scipy.optimize import minimize"
   ]
  },
  {
   "cell_type": "markdown",
   "id": "446d5318",
   "metadata": {},
   "source": [
    "\n",
    "## Download Historical Data\n"
   ]
  },
  {
   "cell_type": "code",
   "execution_count": 34,
   "id": "a972cc76",
   "metadata": {},
   "outputs": [
    {
     "name": "stderr",
     "output_type": "stream",
     "text": [
      "[*********************100%***********************]  6 of 6 completed\n",
      "[*********************100%***********************]  6 of 6 completed\n"
     ]
    }
   ],
   "source": [
    "\n",
    "tickers = [\"AAPL\", \"MSFT\", \"GOOGL\", \"AMZN\", \"META\", \"NVDA\"]\n",
    "data = yf.download(tickers, start=\"2020-01-01\", end=\"2024-01-01\")[\"Close\"]"
   ]
  },
  {
   "cell_type": "code",
   "execution_count": 35,
   "id": "0cb10e9f",
   "metadata": {},
   "outputs": [
    {
     "data": {
      "text/html": [
       "<div>\n",
       "<style scoped>\n",
       "    .dataframe tbody tr th:only-of-type {\n",
       "        vertical-align: middle;\n",
       "    }\n",
       "\n",
       "    .dataframe tbody tr th {\n",
       "        vertical-align: top;\n",
       "    }\n",
       "\n",
       "    .dataframe thead th {\n",
       "        text-align: right;\n",
       "    }\n",
       "</style>\n",
       "<table border=\"1\" class=\"dataframe\">\n",
       "  <thead>\n",
       "    <tr style=\"text-align: right;\">\n",
       "      <th>Ticker</th>\n",
       "      <th>AAPL</th>\n",
       "      <th>AMZN</th>\n",
       "      <th>GOOGL</th>\n",
       "      <th>META</th>\n",
       "      <th>MSFT</th>\n",
       "      <th>NVDA</th>\n",
       "    </tr>\n",
       "    <tr>\n",
       "      <th>Date</th>\n",
       "      <th></th>\n",
       "      <th></th>\n",
       "      <th></th>\n",
       "      <th></th>\n",
       "      <th></th>\n",
       "      <th></th>\n",
       "    </tr>\n",
       "  </thead>\n",
       "  <tbody>\n",
       "    <tr>\n",
       "      <th>2020-01-02</th>\n",
       "      <td>72.538498</td>\n",
       "      <td>94.900497</td>\n",
       "      <td>67.965233</td>\n",
       "      <td>208.635391</td>\n",
       "      <td>152.791107</td>\n",
       "      <td>5.971410</td>\n",
       "    </tr>\n",
       "    <tr>\n",
       "      <th>2020-01-03</th>\n",
       "      <td>71.833313</td>\n",
       "      <td>93.748497</td>\n",
       "      <td>67.609688</td>\n",
       "      <td>207.531479</td>\n",
       "      <td>150.888596</td>\n",
       "      <td>5.875833</td>\n",
       "    </tr>\n",
       "    <tr>\n",
       "      <th>2020-01-06</th>\n",
       "      <td>72.405670</td>\n",
       "      <td>95.143997</td>\n",
       "      <td>69.411766</td>\n",
       "      <td>211.440018</td>\n",
       "      <td>151.278641</td>\n",
       "      <td>5.900473</td>\n",
       "    </tr>\n",
       "    <tr>\n",
       "      <th>2020-01-07</th>\n",
       "      <td>72.065147</td>\n",
       "      <td>95.343002</td>\n",
       "      <td>69.277687</td>\n",
       "      <td>211.897522</td>\n",
       "      <td>149.899307</td>\n",
       "      <td>5.971908</td>\n",
       "    </tr>\n",
       "    <tr>\n",
       "      <th>2020-01-08</th>\n",
       "      <td>73.224403</td>\n",
       "      <td>94.598503</td>\n",
       "      <td>69.770775</td>\n",
       "      <td>214.045731</td>\n",
       "      <td>152.286957</td>\n",
       "      <td>5.983109</td>\n",
       "    </tr>\n",
       "  </tbody>\n",
       "</table>\n",
       "</div>"
      ],
      "text/plain": [
       "Ticker           AAPL       AMZN      GOOGL        META        MSFT      NVDA\n",
       "Date                                                                         \n",
       "2020-01-02  72.538498  94.900497  67.965233  208.635391  152.791107  5.971410\n",
       "2020-01-03  71.833313  93.748497  67.609688  207.531479  150.888596  5.875833\n",
       "2020-01-06  72.405670  95.143997  69.411766  211.440018  151.278641  5.900473\n",
       "2020-01-07  72.065147  95.343002  69.277687  211.897522  149.899307  5.971908\n",
       "2020-01-08  73.224403  94.598503  69.770775  214.045731  152.286957  5.983109"
      ]
     },
     "execution_count": 35,
     "metadata": {},
     "output_type": "execute_result"
    }
   ],
   "source": [
    "data.head()"
   ]
  },
  {
   "cell_type": "markdown",
   "id": "bb93d08d",
   "metadata": {},
   "source": [
    "# Compute log returns"
   ]
  },
  {
   "cell_type": "code",
   "execution_count": 36,
   "id": "5cf0017b",
   "metadata": {},
   "outputs": [],
   "source": [
    "returns = np.log(data / data.shift(1)).dropna()\n",
    "mu = returns.mean().values * 252   # annualized mean returns\n",
    "Sigma = returns.cov().values * 252 # annualized covariance\n",
    "\n",
    "n_assets = len(tickers)"
   ]
  },
  {
   "cell_type": "markdown",
   "id": "b4b45d4d",
   "metadata": {},
   "source": [
    "## Define Benchmarks"
   ]
  },
  {
   "cell_type": "code",
   "execution_count": 37,
   "id": "71f0eb46",
   "metadata": {},
   "outputs": [],
   "source": [
    "# Market-cap benchmark (using yfinance market cap at end date)\n",
    "info = {t: yf.Ticker(t).info for t in tickers}\n",
    "market_caps = np.array([info[t][\"marketCap\"] for t in tickers], dtype=float)\n",
    "market_w = market_caps / market_caps.sum()\n",
    "\n",
    "bench_eq = np.repeat(1.0 / n_assets, n_assets)\n",
    "bench_tilt = np.roll(market_w, 2)\n",
    "\n",
    "benchmarks = {\n",
    "    \"MarketCap\": market_w,\n",
    "    \"EqualWeight\": bench_eq,\n",
    "    \"Tilted\": bench_tilt\n",
    "}"
   ]
  },
  {
   "cell_type": "markdown",
   "id": "3c1d244f",
   "metadata": {},
   "source": [
    "\n",
    "## Black–Litterman Model\n"
   ]
  },
  {
   "cell_type": "code",
   "execution_count": 38,
   "id": "18375c96",
   "metadata": {},
   "outputs": [],
   "source": [
    "delta = 2.5\n",
    "pi = delta * Sigma.dot(market_w)  # equilibrium implied returns\n",
    "\n",
    "# One simple view: AAPL expected to outperform MSFT by 2%\n",
    "P = np.zeros((1, n_assets))\n",
    "P[0, tickers.index(\"AAPL\")] = 1\n",
    "P[0, tickers.index(\"MSFT\")] = -1\n",
    "q = np.array([0.02])\n",
    "\n",
    "tau = 0.05\n",
    "Omega = np.array([[P.dot(tau * Sigma).dot(P.T)[0,0]]])\n",
    "\n",
    "inv_tauSigma = np.linalg.inv(tau * Sigma)\n",
    "inv_Omega = np.linalg.inv(Omega)\n",
    "middle = np.linalg.inv(inv_tauSigma + P.T.dot(inv_Omega).dot(P))\n",
    "right = inv_tauSigma.dot(pi) + P.T.dot(inv_Omega).dot(q)\n",
    "mu_bl = middle.dot(right).flatten()"
   ]
  },
  {
   "cell_type": "markdown",
   "id": "477c4e5b",
   "metadata": {},
   "source": [
    "## Efficient Frontier Function"
   ]
  },
  {
   "cell_type": "code",
   "execution_count": 39,
   "id": "442bf6a0",
   "metadata": {},
   "outputs": [],
   "source": [
    "def min_variance_target(mu, Sigma, target_return):\n",
    "    n = len(mu)\n",
    "    def obj(x): return 0.5 * x.dot(Sigma).dot(x)\n",
    "    cons = (\n",
    "        {'type': 'eq', 'fun': lambda x: np.sum(x) - 1},\n",
    "        {'type': 'eq', 'fun': lambda x: x.dot(mu) - target_return}\n",
    "    )\n",
    "    x0 = np.repeat(1.0/n, n)\n",
    "    res = minimize(obj, x0, constraints=cons, method='SLSQP')\n",
    "    if not res.success: return None, None, None\n",
    "    w = res.x\n",
    "    var = w.dot(Sigma).dot(w)\n",
    "    ret = w.dot(mu)\n",
    "    return w, var, ret\n",
    "\n",
    "def build_frontier(mu, Sigma, label):\n",
    "    targets = np.linspace(mu.min(), mu.max(), 50)\n",
    "    weights, vars_, rets = [], [], []\n",
    "    for t in targets:\n",
    "        w, v, r = min_variance_target(mu, Sigma, t)\n",
    "        if w is not None:\n",
    "            weights.append(w); vars_.append(v); rets.append(r)\n",
    "    return {\"weights\": np.array(weights), \"vars\": np.array(vars_), \"rets\": np.array(rets)}\n",
    "\n",
    "frontiers = {\n",
    "    \"Prior (Implied)\": build_frontier(pi, Sigma, \"Prior\"),\n",
    "    \"Black-Litterman\": build_frontier(mu_bl, Sigma, \"BL\")\n",
    "}\n"
   ]
  },
  {
   "cell_type": "markdown",
   "id": "0aa76833",
   "metadata": {},
   "source": [
    "## Tracking Error Function"
   ]
  },
  {
   "cell_type": "code",
   "execution_count": 40,
   "id": "39b9bb47",
   "metadata": {},
   "outputs": [],
   "source": [
    "def tracking_error(w, wb, Sigma):\n",
    "    diff = w - wb\n",
    "    return np.sqrt(diff.dot(Sigma).dot(diff))\n",
    "\n",
    "te_results = {}\n",
    "for label, data in frontiers.items():\n",
    "    rets, ws = data[\"rets\"], data[\"weights\"]\n",
    "    te_matrix = np.zeros((len(ws), len(benchmarks)))\n",
    "    for i, w in enumerate(ws):\n",
    "        for j, (bn_name, wb) in enumerate(benchmarks.items()):\n",
    "            te_matrix[i,j] = tracking_error(w, wb, Sigma)\n",
    "    te_results[label] = {\"rets\": rets, \"te\": te_matrix}"
   ]
  },
  {
   "cell_type": "markdown",
   "id": "0238a3e0",
   "metadata": {},
   "source": [
    "## Plots"
   ]
  },
  {
   "cell_type": "code",
   "execution_count": null,
   "id": "f5f980b7",
   "metadata": {},
   "outputs": [],
   "source": []
  }
 ],
 "metadata": {
  "kernelspec": {
   "display_name": "Python 3 (ipykernel)",
   "language": "python",
   "name": "python3"
  },
  "language_info": {
   "codemirror_mode": {
    "name": "ipython",
    "version": 3
   },
   "file_extension": ".py",
   "mimetype": "text/x-python",
   "name": "python",
   "nbconvert_exporter": "python",
   "pygments_lexer": "ipython3",
   "version": "3.13.5"
  }
 },
 "nbformat": 4,
 "nbformat_minor": 5
}
